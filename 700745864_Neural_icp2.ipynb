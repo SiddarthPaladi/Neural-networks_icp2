{
  "nbformat": 4,
  "nbformat_minor": 0,
  "metadata": {
    "colab": {
      "provenance": []
    },
    "kernelspec": {
      "name": "python3",
      "display_name": "Python 3"
    },
    "language_info": {
      "name": "python"
    }
  },
  "cells": [
    {
      "cell_type": "code",
      "execution_count": 16,
      "metadata": {
        "colab": {
          "base_uri": "https://localhost:8080/"
        },
        "id": "22KQl2kLdz_U",
        "outputId": "bdb8ac67-82fb-402a-8a73-56e500ceda5e"
      },
      "outputs": [
        {
          "output_type": "stream",
          "name": "stdout",
          "text": [
            "Enter your first name: siddarth\n",
            "Enter your last name: paladi\n",
            "Full name: siddarth paladi\n",
            "Alternate characters in full name: sdat aai\n"
          ]
        }
      ],
      "source": [
        "def string_alternative(input_string):\n",
        "    return input_string[::2]\n",
        "\n",
        "def main():\n",
        "    a = input(\"Enter your first name: \")\n",
        "    b = input(\"Enter your last name: \")\n",
        "\n",
        "    full_name = a + \" \" + b\n",
        "    print(\"Full name:\", full_name)\n",
        "\n",
        "    alternate_chars = string_alternative(full_name)\n",
        "    print(\"Alternate characters in full name:\", alternate_chars)\n",
        "\n",
        "if __name__ == \"__main__\":\n",
        "    main()\n"
      ]
    },
    {
      "cell_type": "code",
      "source": [
        "text = open(\"input.txt\", \"r\")\n",
        "d = dict()\n",
        "for line in text:\n",
        "    line = line.strip()\n",
        "    line = line.lower()\n",
        "    words = line.split(\" \")\n",
        "    for word in words:\n",
        "        if word in d:\n",
        "            d[word] = d[word] + 1\n",
        "        else:\n",
        "            d[word] = 1\n",
        "file1 = open('output.txt', 'w')\n",
        "s=\"\"\n",
        "for key in list(d.keys()):\n",
        "    s+=key+ \":\"+ str(d[key])+\"\\n\"\n",
        "file1.write(s)\n",
        "file1.close()"
      ],
      "metadata": {
        "id": "g2Z3xHSohAPq"
      },
      "execution_count": 11,
      "outputs": []
    },
    {
      "cell_type": "code",
      "source": [
        "height_inc=[]\n",
        "height_cm=[]\n",
        "n=int(input(\"Enter number of customers:\"))\n",
        "for i in range(n):\n",
        "  height_inc.append(int(input()))\n",
        "  height_cm.append(height_inc[i]*2.54)\n",
        "print(\"input : \", height_inc)\n",
        "print(\"Output : \",height_cm)"
      ],
      "metadata": {
        "colab": {
          "base_uri": "https://localhost:8080/"
        },
        "id": "O8zYm59CjubJ",
        "outputId": "5b649a9b-117c-4d8a-fd4a-928d1222ee4e"
      },
      "execution_count": 17,
      "outputs": [
        {
          "output_type": "stream",
          "name": "stdout",
          "text": [
            "Enter number of customers:3\n",
            "150\n",
            "155\n",
            "160\n",
            "input :  [150, 155, 145, 156, 150, 155, 160]\n",
            "Output :  [381.0, 393.7, 368.3, 396.24, 381.0, 393.7, 368.3]\n"
          ]
        }
      ]
    }
  ]
}